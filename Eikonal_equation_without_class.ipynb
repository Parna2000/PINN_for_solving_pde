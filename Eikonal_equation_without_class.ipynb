{
 "cells": [
  {
   "cell_type": "code",
   "execution_count": 1,
   "id": "c156ce94",
   "metadata": {},
   "outputs": [],
   "source": [
    "# Import TensorFlow and NumPy\n",
    "import tensorflow as tf\n",
    "import numpy as np\n",
    "\n",
    "# Set data type\n",
    "DTYPE='float32'\n",
    "tf.keras.backend.set_floatx(DTYPE)\n",
    "\n",
    "# Define initial condition\n",
    "def Eikonal_u_0(x):\n",
    "    n = x.shape[0]\n",
    "    return tf.zeros((n,1), dtype=DTYPE)\n",
    "\n",
    "# Define boundary condition\n",
    "def Eikonal_u_b(t, x):\n",
    "    n = x.shape[0]\n",
    "    return tf.zeros((n,1), dtype=DTYPE)\n"
   ]
  },
  {
   "cell_type": "code",
   "execution_count": 2,
   "id": "9b9a13f7",
   "metadata": {},
   "outputs": [],
   "source": [
    "# Set number of data points\n",
    "N_0 = 50\n",
    "N_b = 50\n",
    "N_r = 10000\n",
    "\n",
    "# Set boundary\n",
    "tmin = 0.\n",
    "tmax = 1.\n",
    "xmin = -1.\n",
    "xmax = 1.\n",
    "\n",
    "# Lower bounds\n",
    "lb = tf.constant([tmin, xmin], dtype=DTYPE)\n",
    "# Upper bounds\n",
    "ub = tf.constant([tmax, xmax], dtype=DTYPE)\n",
    "\n",
    "# Set random seed for reproducible results\n",
    "tf.random.set_seed(0)\n",
    "\n",
    "# Draw uniform sample points for initial boundary data\n",
    "t_0 = tf.ones((N_0,1), dtype=DTYPE)*lb[0]\n",
    "x_0 = tf.random.uniform((N_0,1), lb[1], ub[1], dtype=DTYPE)\n",
    "X_0 = tf.concat([t_0, x_0], axis=1)\n",
    "\n",
    "# Evaluate intitial condition at x_0\n",
    "u_0 = Eikonal_u_0(x_0)\n",
    "\n",
    "# Boundary data\n",
    "t_b = tf.random.uniform((N_b,1), lb[0], ub[0], dtype=DTYPE)\n",
    "x_b = lb[1] + (ub[1] - lb[1]) * tf.keras.backend.random_bernoulli((N_b,1), 0.5, dtype=DTYPE)\n",
    "X_b = tf.concat([t_b, x_b], axis=1)\n",
    "\n",
    "# Evaluate boundary condition at (t_b,x_b)\n",
    "u_b = Eikonal_u_b(t_b, x_b)\n",
    "\n",
    "# Draw uniformly sampled collocation points\n",
    "t_r = tf.random.uniform((N_r,1), lb[0], ub[0], dtype=DTYPE)\n",
    "x_r = tf.random.uniform((N_r,1), lb[1], ub[1], dtype=DTYPE)\n",
    "X_r = tf.concat([t_r, x_r], axis=1)\n",
    "\n",
    "# Collect boundary and inital data in lists\n",
    "X_data = [X_0, X_b]\n",
    "u_data = [u_0, u_b]\n"
   ]
  },
  {
   "cell_type": "code",
   "execution_count": null,
   "id": "f6d68b80",
   "metadata": {},
   "outputs": [],
   "source": [
    "import matplotlib.pyplot as plt\n",
    "\n",
    "fig = plt.figure(figsize=(9,6))\n",
    "plt.scatter(t_0, x_0, c=u_0, marker='X', vmin=-1, vmax=1)\n",
    "plt.scatter(t_b, x_b, c=u_b, marker='X', vmin=-1, vmax=1)\n",
    "plt.scatter(t_r, x_r, c='r', marker='.', alpha=0.1)\n",
    "plt.xlabel('$t$')\n",
    "plt.ylabel('$x$')\n",
    "\n",
    "plt.title('Positions of collocation points and boundary data');\n",
    "#plt.savefig('Xdata_Burgers.pdf', bbox_inches='tight', dpi=300)\n"
   ]
  },
  {
   "cell_type": "code",
   "execution_count": null,
   "id": "d8a1dd19",
   "metadata": {},
   "outputs": [],
   "source": []
  }
 ],
 "metadata": {
  "kernelspec": {
   "display_name": "Python 3 (ipykernel)",
   "language": "python",
   "name": "python3"
  },
  "language_info": {
   "codemirror_mode": {
    "name": "ipython",
    "version": 3
   },
   "file_extension": ".py",
   "mimetype": "text/x-python",
   "name": "python",
   "nbconvert_exporter": "python",
   "pygments_lexer": "ipython3",
   "version": "3.9.15"
  }
 },
 "nbformat": 4,
 "nbformat_minor": 5
}
